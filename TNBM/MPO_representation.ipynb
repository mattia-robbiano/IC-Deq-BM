{
 "cells": [
  {
   "cell_type": "code",
   "execution_count": 1,
   "metadata": {},
   "outputs": [],
   "source": [
    "import numpy as np\n",
    "import quimb\n",
    "import quimb.tensor as qtn"
   ]
  },
  {
   "cell_type": "code",
   "execution_count": null,
   "metadata": {},
   "outputs": [
    {
     "name": "stdout",
     "output_type": "stream",
     "text": [
      "MatrixProductState([\n",
      "    Tensor(shape=(2, 2), inds=('_a0834bAAGzd', 'k0'), tags=oset(['I0'])),\n",
      "    Tensor(shape=(2, 2, 2), inds=('_a0834bAAGzd', '_a0834bAAGze', 'k1'), tags=oset(['I1'])),\n",
      "    Tensor(shape=(2, 2, 2), inds=('_a0834bAAGze', '_a0834bAAGzf', 'k2'), tags=oset(['I2'])),\n",
      "    Tensor(shape=(2, 2, 2), inds=('_a0834bAAGzf', '_a0834bAAGzg', 'k3'), tags=oset(['I3'])),\n",
      "    Tensor(shape=(2, 2, 2), inds=('_a0834bAAGzg', '_a0834bAAGzh', 'k4'), tags=oset(['I4'])),\n",
      "    Tensor(shape=(2, 2, 2), inds=('_a0834bAAGzh', '_a0834bAAGzi', 'k5'), tags=oset(['I5'])),\n",
      "    Tensor(shape=(2, 2, 2), inds=('_a0834bAAGzi', '_a0834bAAGzj', 'k6'), tags=oset(['I6'])),\n",
      "    Tensor(shape=(2, 2, 2), inds=('_a0834bAAGzj', '_a0834bAAGzk', 'k7'), tags=oset(['I7'])),\n",
      "    Tensor(shape=(2, 2), inds=('_a0834bAAGzk', 'k8'), tags=oset(['I8'])),\n",
      "], tensors=9, indices=17, L=9, max_bond=2)\n"
     ]
    }
   ],
   "source": [
    "# Create a random MPS state with 9 open indices and bond dimension 2\n",
    "number_open_index = 9\n",
    "bond_dimension =   2\n",
    "psi = qtn.MPS_rand_state(L=number_open_index, bond_dim=bond_dimension)\n",
    "#print(psi)"
   ]
  },
  {
   "cell_type": "code",
   "execution_count": null,
   "metadata": {},
   "outputs": [
    {
     "name": "stdout",
     "output_type": "stream",
     "text": [
      "MatrixProductState([\n",
      "    Tensor(shape=(1, 2), inds=('_a0834bAAGyA', 'k9'), tags=oset(['I0'])),\n",
      "    Tensor(shape=(1, 1, 2), inds=('_a0834bAAGyA', '_a0834bAAGyB', 'k10'), tags=oset(['I1'])),\n",
      "    Tensor(shape=(1, 1, 2), inds=('_a0834bAAGyB', '_a0834bAAGyC', 'k11'), tags=oset(['I2'])),\n",
      "    Tensor(shape=(1, 1, 2), inds=('_a0834bAAGyC', '_a0834bAAGyD', 'k12'), tags=oset(['I3'])),\n",
      "    Tensor(shape=(1, 1, 2), inds=('_a0834bAAGyD', '_a0834bAAGyE', 'k13'), tags=oset(['I4'])),\n",
      "    Tensor(shape=(1, 1, 2), inds=('_a0834bAAGyE', '_a0834bAAGyF', 'k14'), tags=oset(['I5'])),\n",
      "    Tensor(shape=(1, 1, 2), inds=('_a0834bAAGyF', '_a0834bAAGyG', 'k15'), tags=oset(['I6'])),\n",
      "    Tensor(shape=(1, 1, 2), inds=('_a0834bAAGyG', '_a0834bAAGyH', 'k16'), tags=oset(['I7'])),\n",
      "    Tensor(shape=(1, 2), inds=('_a0834bAAGyH', 'k17'), tags=oset(['I8'])),\n",
      "], tensors=9, indices=17, L=9, max_bond=1)\n"
     ]
    }
   ],
   "source": [
    "# Define a random 9-qubit bitstring we want to calculate loss for\n",
    "bitstring = '101010101'\n",
    "bitstring = np.array([int(x) for x in bitstring])\n",
    "bitstring = qtn.MPS_computational_state(bitstring)\n",
    "bitstring /= bitstring.H @ bitstring\n",
    "# Reindexing:\n",
    "rename_dict = {f'k{i}': f'k{i+9}' for i in range(9)}\n",
    "bitstring.reindex_(rename_dict)\n",
    "#print(bitstring)"
   ]
  },
  {
   "cell_type": "code",
   "execution_count": 55,
   "metadata": {},
   "outputs": [],
   "source": [
    "from scipy.special import comb\n",
    "\n",
    "# Define the p_sigma coefficient\n",
    "sigma = 0.09\n",
    "\n",
    "# Define the set A of all possible bitstrings of lenght n and return the ones with norm l\n",
    "def A(n,l):\n",
    "    A = [np.array(list(bin(i)[2:].zfill(n)), dtype=int) for i in range(2**n)]\n",
    "    A = [a for a in A if sum(a) == l]\n",
    "    return A"
   ]
  },
  {
   "cell_type": "code",
   "execution_count": 60,
   "metadata": {},
   "outputs": [],
   "source": [
    "# Define Dl string of observables\n",
    "def Ommd(n, sigma):\n",
    "    # Set parameters:\n",
    "    n = 9             # number of qubits per half\n",
    "    L = 2 * n         # total number of sites\n",
    "\n",
    "    Dl_list = []\n",
    "    # Questa è la sommatoria di tutti i Dl con il loro coefficiente coef1\n",
    "    for l in range(1, n+1):\n",
    "        p_sigma = (1 - np.exp(-1/(2*sigma)))/2\n",
    "        coef = p_sigma**l * (1-p_sigma)**(n-l)\n",
    "\n",
    "        A_l = A(n, l)\n",
    "\n",
    "        # Building D2l\n",
    "        mpo_list = []\n",
    "        for i in A_l:\n",
    "            site1 = i\n",
    "            site2 = site1 + n\n",
    "\n",
    "            # Define operators:\n",
    "            Z = np.array([[1, 0],\n",
    "                        [0, -1]])\n",
    "            I = np.eye(2)\n",
    "\n",
    "            # Build MPO tensors: each tensor is shaped (1, 1, 2, 2)\n",
    "            mpo_tensors = []\n",
    "            for site in range(L):\n",
    "                # Choose Z on the designated sites, I elsewhere:\n",
    "                op = Z if site in site1 or site in site2 else I\n",
    "                tensor = op.reshape(1, 2, 2) if site in [0, L - 1] else op.reshape(1, 1, 2, 2)\n",
    "                mpo_tensors.append(tensor)\n",
    "\n",
    "            # Create the MPO. Here, 'sites' and 'L' help label the tensor network.\n",
    "            mpo = qtn.MatrixProductOperator(\n",
    "                mpo_tensors,\n",
    "                sites=range(L),\n",
    "                L=L,\n",
    "                shape='lrud'\n",
    "            )\n",
    "            mpo_list.append(mpo)\n",
    "\n",
    "        # Sum all the MPOs\n",
    "        Dl = mpo_list[0]\n",
    "        for i in mpo_list[1:]:\n",
    "            Dl = Dl.add_MPO(i)\n",
    "        \n",
    "        Dl_list.append(coef*Dl)\n",
    "\n",
    "    O = Dl_list[0]\n",
    "    for i in Dl_list[1:]:\n",
    "        Dl = Dl.add_MPO(i)\n",
    "    \n",
    "    return Dl"
   ]
  },
  {
   "cell_type": "code",
   "execution_count": 95,
   "metadata": {},
   "outputs": [
    {
     "name": "stdout",
     "output_type": "stream",
     "text": [
      "│503│503│503│503│503│503│503│503│503│503│503│503│503│503│503│503│503│\n",
      "●━━━●━━━●━━━●━━━●━━━●━━━●━━━●━━━●━━━●━━━●━━━●━━━●━━━●━━━●━━━●━━━●━━━●\n",
      "│   │   │   │   │   │   │   │   │   │   │   │   │   │   │   │   │   │\n"
     ]
    }
   ],
   "source": [
    "Omm = Ommd(2, 0.09)\n",
    "Omm.show()"
   ]
  },
  {
   "cell_type": "code",
   "execution_count": 79,
   "metadata": {},
   "outputs": [
    {
     "name": "stdout",
     "output_type": "stream",
     "text": [
      "MatrixProductOperator([\n",
      "    Tensor(shape=(503, 2, 2), inds=('_a0834bAAGud', 'k0', 'b0'), tags=oset(['I0'])),\n",
      "    Tensor(shape=(503, 503, 2, 2), inds=('_a0834bAAGud', '_a0834bAAGue', 'k1', 'b1'), tags=oset(['I1'])),\n",
      "    Tensor(shape=(503, 503, 2, 2), inds=('_a0834bAAGue', '_a0834bAAGuf', 'k2', 'b2'), tags=oset(['I2'])),\n",
      "    Tensor(shape=(503, 503, 2, 2), inds=('_a0834bAAGuf', '_a0834bAAGug', 'k3', 'b3'), tags=oset(['I3'])),\n",
      "    Tensor(shape=(503, 503, 2, 2), inds=('_a0834bAAGug', '_a0834bAAGuh', 'k4', 'b4'), tags=oset(['I4'])),\n",
      "    Tensor(shape=(503, 503, 2, 2), inds=('_a0834bAAGuh', '_a0834bAAGui', 'k5', 'b5'), tags=oset(['I5'])),\n",
      "    Tensor(shape=(503, 503, 2, 2), inds=('_a0834bAAGui', '_a0834bAAGuj', 'k6', 'b6'), tags=oset(['I6'])),\n",
      "    Tensor(shape=(503, 503, 2, 2), inds=('_a0834bAAGuj', '_a0834bAAGuk', 'k7', 'b7'), tags=oset(['I7'])),\n",
      "    Tensor(shape=(503, 503, 2, 2), inds=('_a0834bAAGuk', '_a0834bAAGul', 'k8', 'b8'), tags=oset(['I8'])),\n",
      "    Tensor(shape=(503, 503, 2, 2), inds=('_a0834bAAGul', '_a0834bAAGum', 'k9', 'b9'), tags=oset(['I9'])),\n",
      "    Tensor(shape=(503, 503, 2, 2), inds=('_a0834bAAGum', '_a0834bAAGun', 'k10', 'b10'), tags=oset(['I10'])),\n",
      "    Tensor(shape=(503, 503, 2, 2), inds=('_a0834bAAGun', '_a0834bAAGuo', 'k11', 'b11'), tags=oset(['I11'])),\n",
      "    Tensor(shape=(503, 503, 2, 2), inds=('_a0834bAAGuo', '_a0834bAAGup', 'k12', 'b12'), tags=oset(['I12'])),\n",
      "    Tensor(shape=(503, 503, 2, 2), inds=('_a0834bAAGup', '_a0834bAAGuq', 'k13', 'b13'), tags=oset(['I13'])),\n",
      "    Tensor(shape=(503, 503, 2, 2), inds=('_a0834bAAGuq', '_a0834bAAGur', 'k14', 'b14'), tags=oset(['I14'])),\n",
      "    Tensor(shape=(503, 503, 2, 2), inds=('_a0834bAAGur', '_a0834bAAGus', 'k15', 'b15'), tags=oset(['I15'])),\n",
      "    Tensor(shape=(503, 503, 2, 2), inds=('_a0834bAAGus', '_a0834bAAGut', 'k16', 'b16'), tags=oset(['I16'])),\n",
      "    Tensor(shape=(503, 2, 2), inds=('_a0834bAAGut', 'k17', 'b17'), tags=oset(['I17'])),\n",
      "], tensors=18, indices=53, L=18, max_bond=503)\n"
     ]
    }
   ],
   "source": [
    "print(Omm)"
   ]
  },
  {
   "cell_type": "code",
   "execution_count": 69,
   "metadata": {},
   "outputs": [
    {
     "data": {
      "image/png": "[encoded data removed]",
      "text/plain": [
       "<Figure size 2000x400 with 1 Axes>"
      ]
     },
     "metadata": {
      "needs_background": "light"
     },
     "output_type": "display_data"
    }
   ],
   "source": [
    "fix = {}\n",
    "for i in range(L):\n",
    "    fix[\"I{}\".format(i)] = (i, 0)      # tensor node at site i\n",
    "    fix[\"k{}\".format(i)] = (i, 0.5)    # upper physical index above the tensor\n",
    "    fix[\"b{}\".format(i)] = (i, -0.5)   # lower physical index below the tensor\n",
    "\n",
    "qtn.drawing.draw_tn(\n",
    "    Omm,\n",
    "    title = \"Omm MPO\",\n",
    "    fix=fix, \n",
    "    layout='auto',  # fixed positions will be respected\n",
    "    #color={'I': 'lightblue', 'Z': 'salmon'},\n",
    "    figsize=(20, 4),\n",
    "    show_inds=(1),\n",
    "    show_tags=True\n",
    "    )"
   ]
  },
  {
   "cell_type": "code",
   "execution_count": 96,
   "metadata": {},
   "outputs": [
    {
     "name": "stdout",
     "output_type": "stream",
     "text": [
      "MatrixProductState([\n",
      "    Tensor(shape=(2, 2), inds=('_a0834bAAGzd', 'b0'), tags=oset(['I0'])),\n",
      "    Tensor(shape=(2, 2, 2), inds=('_a0834bAAGzd', '_a0834bAAGze', 'b1'), tags=oset(['I1'])),\n",
      "    Tensor(shape=(2, 2, 2), inds=('_a0834bAAGze', '_a0834bAAGzf', 'b2'), tags=oset(['I2'])),\n",
      "    Tensor(shape=(2, 2, 2), inds=('_a0834bAAGzf', '_a0834bAAGzg', 'b3'), tags=oset(['I3'])),\n",
      "    Tensor(shape=(2, 2, 2), inds=('_a0834bAAGzg', '_a0834bAAGzh', 'b4'), tags=oset(['I4'])),\n",
      "    Tensor(shape=(2, 2, 2), inds=('_a0834bAAGzh', '_a0834bAAGzi', 'b5'), tags=oset(['I5'])),\n",
      "    Tensor(shape=(2, 2, 2), inds=('_a0834bAAGzi', '_a0834bAAGzj', 'b6'), tags=oset(['I6'])),\n",
      "    Tensor(shape=(2, 2, 2), inds=('_a0834bAAGzj', '_a0834bAAGzk', 'b7'), tags=oset(['I7'])),\n",
      "    Tensor(shape=(2, 2), inds=('_a0834bAAGzk', 'b8'), tags=oset(['I8'])),\n",
      "], tensors=9, indices=17, L=9, max_bond=2)\n",
      "MatrixProductState([\n",
      "    Tensor(shape=(1, 2), inds=('_a0834bAAGyA', 'b9'), tags=oset(['I0'])),\n",
      "    Tensor(shape=(1, 1, 2), inds=('_a0834bAAGyA', '_a0834bAAGyB', 'b10'), tags=oset(['I1'])),\n",
      "    Tensor(shape=(1, 1, 2), inds=('_a0834bAAGyB', '_a0834bAAGyC', 'b11'), tags=oset(['I2'])),\n",
      "    Tensor(shape=(1, 1, 2), inds=('_a0834bAAGyC', '_a0834bAAGyD', 'b12'), tags=oset(['I3'])),\n",
      "    Tensor(shape=(1, 1, 2), inds=('_a0834bAAGyD', '_a0834bAAGyE', 'b13'), tags=oset(['I4'])),\n",
      "    Tensor(shape=(1, 1, 2), inds=('_a0834bAAGyE', '_a0834bAAGyF', 'b14'), tags=oset(['I5'])),\n",
      "    Tensor(shape=(1, 1, 2), inds=('_a0834bAAGyF', '_a0834bAAGyG', 'b15'), tags=oset(['I6'])),\n",
      "    Tensor(shape=(1, 1, 2), inds=('_a0834bAAGyG', '_a0834bAAGyH', 'b16'), tags=oset(['I7'])),\n",
      "    Tensor(shape=(1, 2), inds=('_a0834bAAGyH', 'b17'), tags=oset(['I8'])),\n",
      "], tensors=9, indices=17, L=9, max_bond=1)\n"
     ]
    }
   ],
   "source": [
    "psi_conj = psi.H\n",
    "bitstring_conj = bitstring.H\n",
    "# Reindexing:\n",
    "rename_dict = {f'k{i}': f'b{i}' for i in range(9)}\n",
    "psi_conj.reindex_(rename_dict)\n",
    "rename_dict = {f'k{i}': f'b{i}' for i in range(9,18)}\n",
    "bitstring_conj.reindex_(rename_dict)\n",
    "print(psi_conj)\n",
    "print(bitstring_conj)"
   ]
  },
  {
   "cell_type": "code",
   "execution_count": 97,
   "metadata": {},
   "outputs": [
    {
     "name": "stdout",
     "output_type": "stream",
     "text": [
      "-0.039292672557124236\n"
     ]
    }
   ],
   "source": [
    "# Contract the MPO with the MPS and the bitstring\n",
    "loss = psi & Omm & bitstring & psi_conj & bitstring_conj\n",
    "loss = loss.contract(all, optimize='auto-hq')\n",
    "print(loss)"
   ]
  }
 ],
 "metadata": {
  "kernelspec": {
   "display_name": "main_environment",
   "language": "python",
   "name": "python3"
  },
  "language_info": {
   "codemirror_mode": {
    "name": "ipython",
    "version": 3
   },
   "file_extension": ".py",
   "mimetype": "text/x-python",
   "name": "python",
   "nbconvert_exporter": "python",
   "pygments_lexer": "ipython3",
   "version": "3.11.2"
  }
 },
 "nbformat": 4,
 "nbformat_minor": 2
}
