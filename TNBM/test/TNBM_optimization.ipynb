{
 "cells": [
  {
   "cell_type": "code",
   "execution_count": 197,
   "metadata": {},
   "outputs": [],
   "source": [
    "%config InlineBackend.figure_formats = ['svg']\n",
    "import quimb\n",
    "import quimb.tensor as qtn\n",
    "import numpy as np\n",
    "import matplotlib.pyplot as plt\n",
    "\n",
    "from functions_numpy import *"
   ]
  },
  {
   "cell_type": "code",
   "execution_count": 198,
   "metadata": {},
   "outputs": [],
   "source": [
    "# Define Dl string of observables\n",
    "def Ommd(n, sigma):\n",
    "    \"\"\"\n",
    "    Building the observable Dl for a given sigma and n. The standard name for the indexes are k1, k2, ..., kn, b1, b2, ..., bn.\n",
    "    \"\"\"\n",
    "    # Set parameters:\n",
    "    n = 9             # number of qubits per half\n",
    "    L = 2 * n         # total number of sites\n",
    "\n",
    "    Dl_list = []\n",
    "    # Questa è la sommatoria di tutti i Dl con il loro coefficiente coef1\n",
    "    for l in range(1, n+1):\n",
    "        p_sigma = (1 - np.exp(-1/(2*sigma)))/2\n",
    "        coef = p_sigma**l * (1-p_sigma)**(n-l)\n",
    "\n",
    "        A_l = A(n, l)\n",
    "\n",
    "        # Building D2l\n",
    "        mpo_list = []\n",
    "        for i in A_l:\n",
    "            site1 = i\n",
    "            site2 = site1 + n\n",
    "\n",
    "            # Define operators:\n",
    "            Z = np.array([[1, 0],\n",
    "                        [0, -1]])\n",
    "            I = np.eye(2)\n",
    "\n",
    "            # Build MPO tensors: each tensor is shaped (1, 1, 2, 2)\n",
    "            mpo_tensors = []\n",
    "            for site in range(L):\n",
    "                # Choose Z on the designated sites, I elsewhere:\n",
    "                op = Z if site in site1 or site in site2 else I\n",
    "                tensor = op.reshape(1, 2, 2) if site in [0, L - 1] else op.reshape(1, 1, 2, 2)\n",
    "                mpo_tensors.append(tensor)\n",
    "\n",
    "            # Create the MPO. Here, 'sites' and 'L' help label the tensor network.\n",
    "            mpo = qtn.MatrixProductOperator(\n",
    "                mpo_tensors,\n",
    "                sites=range(L),\n",
    "                L=L,\n",
    "                shape='lrud'\n",
    "            )\n",
    "            mpo_list.append(mpo)\n",
    "\n",
    "        # Sum all the MPOs\n",
    "        Dl = mpo_list[0]\n",
    "        for i in mpo_list[1:]:\n",
    "            Dl = Dl.add_MPO(i)\n",
    "        \n",
    "        Dl_list.append(coef*Dl)\n",
    "\n",
    "    O = Dl_list[0]\n",
    "    for i in Dl_list[1:]:\n",
    "        Dl = Dl.add_MPO(i)\n",
    "    \n",
    "    return Dl"
   ]
  },
  {
   "cell_type": "code",
   "execution_count": 199,
   "metadata": {},
   "outputs": [],
   "source": [
    "def MMD(x, y,Ommd, sigma, number_open_index, bond_dimension):\n",
    "    \"\"\"\n",
    "    samples and target are two Matrix Product States.\n",
    "    \"\"\"\n",
    "\n",
    "    x /= x.H @ x\n",
    "    y /= y.H @ y\n",
    "    rename_dict = {f'k{i}': f'k{i+number_open_index}' for i in range(number_open_index)}\n",
    "    y.reindex_(rename_dict)\n",
    "\n",
    "    \"\"\"\n",
    "    Building the MMD MPO. The default open indexes are k1, k2, ..., kn, b1, b2, ..., bn.\n",
    "    Then we can contract the MPO with the MPS and the bitstring state to get the loss function.\n",
    "    \"\"\"\n",
    "\n",
    "    x.add_tag('x')\n",
    "    y.add_tag('y')\n",
    "    Ommd.add_tag('Ommd')\n",
    "\n",
    "    loss = x & Ommd & y\n",
    "\n",
    "    #qtn.drawing.draw_tn(loss, color={\"x\": \"blue\", \"Ommd\": \"red\", \"y\": \"green\"}, figsize=(30, 30), show_inds=True)\n",
    "\n",
    "    # Here we should do the trace but we have a MPS, what happends then??\n",
    "    loss = loss @ loss.H\n",
    "    \n",
    "\n",
    "    return loss\n"
   ]
  },
  {
   "cell_type": "markdown",
   "metadata": {},
   "source": [
    "dimension of dataset: 14"
   ]
  },
  {
   "cell_type": "code",
   "execution_count": 200,
   "metadata": {},
   "outputs": [],
   "source": [
    "L = 9\n",
    "D = 8\n",
    "sigma = 0.09\n",
    "\n",
    "# create a random MPS as our initial target to optimize\n",
    "psi = qtn.MPS_rand_state(L, bond_dim=D)\n",
    "Ommd = Ommd(L, sigma)\n",
    "dataset = get_bars_and_stripes(3)"
   ]
  },
  {
   "cell_type": "code",
   "execution_count": 201,
   "metadata": {},
   "outputs": [],
   "source": [
    "MPS_dataset = []\n",
    "for data in dataset:\n",
    "    MPS_dataset.append(qtn.MPS_computational_state(data))\n"
   ]
  },
  {
   "cell_type": "code",
   "execution_count": 202,
   "metadata": {},
   "outputs": [],
   "source": [
    "def loss_fn(psi,dataset,Ommd):\n",
    "    loss = 0\n",
    "    #for data in dataset:\n",
    "    data = psi.copy()\n",
    "    loss += MMD(psi, data, Ommd, sigma, L, D)\n",
    "    #loss = loss / len(dataset)\n",
    "    return loss\n"
   ]
  },
  {
   "cell_type": "code",
   "execution_count": 203,
   "metadata": {},
   "outputs": [],
   "source": [
    "tnopt = qtn.TNOptimizer(\n",
    "    # the tensor network we want to optimize\n",
    "    psi,\n",
    "    # the functions specfying the loss and normalization\n",
    "    loss_fn=loss_fn,\n",
    "    #norm_fn=norm_fn,\n",
    "    # we specify constants so that the arguments can be converted\n",
    "    # to the  desired autodiff backend automatically\n",
    "    loss_constants={\"dataset\": MPS_dataset, \"Ommd\": Ommd},\n",
    "    # the underlying algorithm to use for the optimization\n",
    "    # 'l-bfgs-b' is the default and often good for fast initial progress\n",
    "    optimizer=\"adam\",\n",
    "    # which gradient computation backend to use\n",
    "    autodiff_backend=\"numpy\",\n",
    ")"
   ]
  },
  {
   "cell_type": "code",
   "execution_count": 204,
   "metadata": {},
   "outputs": [
    {
     "name": "stderr",
     "output_type": "stream",
     "text": [
      "+1.656370153747 [best: +1.656370153747] : : 2it [00:02,  1.08s/it]                     \n"
     ]
    }
   ],
   "source": [
    "psi_opt = tnopt.optimize(1)"
   ]
  }
 ],
 "metadata": {
  "kernelspec": {
   "display_name": "main_environment",
   "language": "python",
   "name": "python3"
  },
  "language_info": {
   "codemirror_mode": {
    "name": "ipython",
    "version": 3
   },
   "file_extension": ".py",
   "mimetype": "text/x-python",
   "name": "python",
   "nbconvert_exporter": "python",
   "pygments_lexer": "ipython3",
   "version": "3.11.4"
  }
 },
 "nbformat": 4,
 "nbformat_minor": 2
}
