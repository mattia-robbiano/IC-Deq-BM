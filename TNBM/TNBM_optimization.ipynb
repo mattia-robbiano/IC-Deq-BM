{
 "cells": [
  {
   "cell_type": "code",
   "execution_count": 2,
   "metadata": {},
   "outputs": [],
   "source": [
    "%config InlineBackend.figure_formats = ['svg']\n",
    "import quimb\n",
    "import quimb.tensor as qtn\n",
    "import numpy as np\n",
    "import matplotlib.pyplot as plt\n",
    "\n",
    "from functions import *"
   ]
  },
  {
   "cell_type": "markdown",
   "metadata": {},
   "source": [
    "dimension of dataset: 14"
   ]
  },
  {
   "cell_type": "code",
   "execution_count": 3,
   "metadata": {},
   "outputs": [],
   "source": [
    "L = 9\n",
    "D = 8\n",
    "sigma = 0.09\n",
    "\n",
    "# create a random MPS as our initial target to optimize\n",
    "psi = qtn.MPS_rand_state(L, bond_dim=D)\n",
    "Ommd = Ommd(L, sigma)\n",
    "dataset = get_bars_and_stripes(3)"
   ]
  },
  {
   "cell_type": "code",
   "execution_count": 4,
   "metadata": {},
   "outputs": [],
   "source": [
    "def loss_fn(psi,dataset,Ommd):\n",
    "    loss = 0\n",
    "    for data in dataset:\n",
    "        y = qtn.MPS_computational_state(data)\n",
    "        loss += MMD(psi, y, Ommd, sigma, L, D)\n",
    "    loss = loss / len(dataset)\n",
    "    return loss\n"
   ]
  },
  {
   "cell_type": "code",
   "execution_count": 9,
   "metadata": {},
   "outputs": [
    {
     "data": {
      "text/plain": [
       "<TNOptimizer(d=928, backend=numpy)>"
      ]
     },
     "execution_count": 9,
     "metadata": {},
     "output_type": "execute_result"
    }
   ],
   "source": [
    "tnopt = qtn.TNOptimizer(\n",
    "    # the tensor network we want to optimize\n",
    "    psi,\n",
    "    # the functions specfying the loss and normalization\n",
    "    loss_fn=loss_fn,\n",
    "    #norm_fn=norm_fn,\n",
    "    # we specify constants so that the arguments can be converted\n",
    "    # to the  desired autodiff backend automatically\n",
    "    loss_constants={\"dataset\": dataset, \"Ommd\": Ommd},\n",
    "    # the underlying algorithm to use for the optimization\n",
    "    # 'l-bfgs-b' is the default and often good for fast initial progress\n",
    "    optimizer=\"adam\",\n",
    "    # which gradient computation backend to use\n",
    "    autodiff_backend=\"numpy\",\n",
    ")\n",
    "tnopt"
   ]
  },
  {
   "cell_type": "code",
   "execution_count": 10,
   "metadata": {},
   "outputs": [
    {
     "name": "stderr",
     "output_type": "stream",
     "text": [
      "  0%|          | 0/1 [00:00<?, ?it/s]"
     ]
    },
    {
     "name": "stderr",
     "output_type": "stream",
     "text": [
      "+1.792035165707 [best: +1.792035165707] : : 2it [00:33, 16.73s/it]                     \n"
     ]
    }
   ],
   "source": [
    "psi_opt = tnopt.optimize(1)"
   ]
  }
 ],
 "metadata": {
  "kernelspec": {
   "display_name": "main_environment",
   "language": "python",
   "name": "python3"
  },
  "language_info": {
   "codemirror_mode": {
    "name": "ipython",
    "version": 3
   },
   "file_extension": ".py",
   "mimetype": "text/x-python",
   "name": "python",
   "nbconvert_exporter": "python",
   "pygments_lexer": "ipython3",
   "version": "3.11.2"
  }
 },
 "nbformat": 4,
 "nbformat_minor": 2
}
